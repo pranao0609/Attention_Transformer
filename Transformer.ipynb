{
  "nbformat": 4,
  "nbformat_minor": 0,
  "metadata": {
    "colab": {
      "provenance": [],
      "gpuType": "T4",
      "authorship_tag": "ABX9TyMsrPINWf+o8uAAdYcnWWFF",
      "include_colab_link": true
    },
    "kernelspec": {
      "name": "python3",
      "display_name": "Python 3"
    },
    "language_info": {
      "name": "python"
    },
    "accelerator": "GPU"
  },
  "cells": [
    {
      "cell_type": "markdown",
      "metadata": {
        "id": "view-in-github",
        "colab_type": "text"
      },
      "source": [
        "<a href=\"https://colab.research.google.com/github/pranao0609/Attention_Transformer/blob/main/Transformer.ipynb\" target=\"_parent\"><img src=\"https://colab.research.google.com/assets/colab-badge.svg\" alt=\"Open In Colab\"/></a>"
      ]
    },
    {
      "cell_type": "code",
      "execution_count": 1,
      "metadata": {
        "colab": {
          "base_uri": "https://localhost:8080/"
        },
        "id": "CToA1_77W4_a",
        "outputId": "588c463d-3cdb-4942-fa39-4f255e65ef22"
      },
      "outputs": [
        {
          "output_type": "stream",
          "name": "stdout",
          "text": [
            "Requirement already satisfied: torch in /usr/local/lib/python3.11/dist-packages (2.6.0+cu124)\n",
            "Requirement already satisfied: numpy in /usr/local/lib/python3.11/dist-packages (2.0.2)\n",
            "Requirement already satisfied: filelock in /usr/local/lib/python3.11/dist-packages (from torch) (3.18.0)\n",
            "Requirement already satisfied: typing-extensions>=4.10.0 in /usr/local/lib/python3.11/dist-packages (from torch) (4.14.1)\n",
            "Requirement already satisfied: networkx in /usr/local/lib/python3.11/dist-packages (from torch) (3.5)\n",
            "Requirement already satisfied: jinja2 in /usr/local/lib/python3.11/dist-packages (from torch) (3.1.6)\n",
            "Requirement already satisfied: fsspec in /usr/local/lib/python3.11/dist-packages (from torch) (2025.3.2)\n",
            "Collecting nvidia-cuda-nvrtc-cu12==12.4.127 (from torch)\n",
            "  Downloading nvidia_cuda_nvrtc_cu12-12.4.127-py3-none-manylinux2014_x86_64.whl.metadata (1.5 kB)\n",
            "Collecting nvidia-cuda-runtime-cu12==12.4.127 (from torch)\n",
            "  Downloading nvidia_cuda_runtime_cu12-12.4.127-py3-none-manylinux2014_x86_64.whl.metadata (1.5 kB)\n",
            "Collecting nvidia-cuda-cupti-cu12==12.4.127 (from torch)\n",
            "  Downloading nvidia_cuda_cupti_cu12-12.4.127-py3-none-manylinux2014_x86_64.whl.metadata (1.6 kB)\n",
            "Collecting nvidia-cudnn-cu12==9.1.0.70 (from torch)\n",
            "  Downloading nvidia_cudnn_cu12-9.1.0.70-py3-none-manylinux2014_x86_64.whl.metadata (1.6 kB)\n",
            "Collecting nvidia-cublas-cu12==12.4.5.8 (from torch)\n",
            "  Downloading nvidia_cublas_cu12-12.4.5.8-py3-none-manylinux2014_x86_64.whl.metadata (1.5 kB)\n",
            "Collecting nvidia-cufft-cu12==11.2.1.3 (from torch)\n",
            "  Downloading nvidia_cufft_cu12-11.2.1.3-py3-none-manylinux2014_x86_64.whl.metadata (1.5 kB)\n",
            "Collecting nvidia-curand-cu12==10.3.5.147 (from torch)\n",
            "  Downloading nvidia_curand_cu12-10.3.5.147-py3-none-manylinux2014_x86_64.whl.metadata (1.5 kB)\n",
            "Collecting nvidia-cusolver-cu12==11.6.1.9 (from torch)\n",
            "  Downloading nvidia_cusolver_cu12-11.6.1.9-py3-none-manylinux2014_x86_64.whl.metadata (1.6 kB)\n",
            "Collecting nvidia-cusparse-cu12==12.3.1.170 (from torch)\n",
            "  Downloading nvidia_cusparse_cu12-12.3.1.170-py3-none-manylinux2014_x86_64.whl.metadata (1.6 kB)\n",
            "Requirement already satisfied: nvidia-cusparselt-cu12==0.6.2 in /usr/local/lib/python3.11/dist-packages (from torch) (0.6.2)\n",
            "Requirement already satisfied: nvidia-nccl-cu12==2.21.5 in /usr/local/lib/python3.11/dist-packages (from torch) (2.21.5)\n",
            "Requirement already satisfied: nvidia-nvtx-cu12==12.4.127 in /usr/local/lib/python3.11/dist-packages (from torch) (12.4.127)\n",
            "Collecting nvidia-nvjitlink-cu12==12.4.127 (from torch)\n",
            "  Downloading nvidia_nvjitlink_cu12-12.4.127-py3-none-manylinux2014_x86_64.whl.metadata (1.5 kB)\n",
            "Requirement already satisfied: triton==3.2.0 in /usr/local/lib/python3.11/dist-packages (from torch) (3.2.0)\n",
            "Requirement already satisfied: sympy==1.13.1 in /usr/local/lib/python3.11/dist-packages (from torch) (1.13.1)\n",
            "Requirement already satisfied: mpmath<1.4,>=1.1.0 in /usr/local/lib/python3.11/dist-packages (from sympy==1.13.1->torch) (1.3.0)\n",
            "Requirement already satisfied: MarkupSafe>=2.0 in /usr/local/lib/python3.11/dist-packages (from jinja2->torch) (3.0.2)\n",
            "Downloading nvidia_cublas_cu12-12.4.5.8-py3-none-manylinux2014_x86_64.whl (363.4 MB)\n",
            "\u001b[2K   \u001b[90m━━━━━━━━━━━━━━━━━━━━━━━━━━━━━━━━━━━━━━━━\u001b[0m \u001b[32m363.4/363.4 MB\u001b[0m \u001b[31m3.6 MB/s\u001b[0m eta \u001b[36m0:00:00\u001b[0m\n",
            "\u001b[?25hDownloading nvidia_cuda_cupti_cu12-12.4.127-py3-none-manylinux2014_x86_64.whl (13.8 MB)\n",
            "\u001b[2K   \u001b[90m━━━━━━━━━━━━━━━━━━━━━━━━━━━━━━━━━━━━━━━━\u001b[0m \u001b[32m13.8/13.8 MB\u001b[0m \u001b[31m94.7 MB/s\u001b[0m eta \u001b[36m0:00:00\u001b[0m\n",
            "\u001b[?25hDownloading nvidia_cuda_nvrtc_cu12-12.4.127-py3-none-manylinux2014_x86_64.whl (24.6 MB)\n",
            "\u001b[2K   \u001b[90m━━━━━━━━━━━━━━━━━━━━━━━━━━━━━━━━━━━━━━━━\u001b[0m \u001b[32m24.6/24.6 MB\u001b[0m \u001b[31m80.8 MB/s\u001b[0m eta \u001b[36m0:00:00\u001b[0m\n",
            "\u001b[?25hDownloading nvidia_cuda_runtime_cu12-12.4.127-py3-none-manylinux2014_x86_64.whl (883 kB)\n",
            "\u001b[2K   \u001b[90m━━━━━━━━━━━━━━━━━━━━━━━━━━━━━━━━━━━━━━━━\u001b[0m \u001b[32m883.7/883.7 kB\u001b[0m \u001b[31m53.3 MB/s\u001b[0m eta \u001b[36m0:00:00\u001b[0m\n",
            "\u001b[?25hDownloading nvidia_cudnn_cu12-9.1.0.70-py3-none-manylinux2014_x86_64.whl (664.8 MB)\n",
            "\u001b[2K   \u001b[90m━━━━━━━━━━━━━━━━━━━━━━━━━━━━━━━━━━━━━━━━\u001b[0m \u001b[32m664.8/664.8 MB\u001b[0m \u001b[31m2.9 MB/s\u001b[0m eta \u001b[36m0:00:00\u001b[0m\n",
            "\u001b[?25hDownloading nvidia_cufft_cu12-11.2.1.3-py3-none-manylinux2014_x86_64.whl (211.5 MB)\n",
            "\u001b[2K   \u001b[90m━━━━━━━━━━━━━━━━━━━━━━━━━━━━━━━━━━━━━━━━\u001b[0m \u001b[32m211.5/211.5 MB\u001b[0m \u001b[31m5.9 MB/s\u001b[0m eta \u001b[36m0:00:00\u001b[0m\n",
            "\u001b[?25hDownloading nvidia_curand_cu12-10.3.5.147-py3-none-manylinux2014_x86_64.whl (56.3 MB)\n",
            "\u001b[2K   \u001b[90m━━━━━━━━━━━━━━━━━━━━━━━━━━━━━━━━━━━━━━━━\u001b[0m \u001b[32m56.3/56.3 MB\u001b[0m \u001b[31m15.2 MB/s\u001b[0m eta \u001b[36m0:00:00\u001b[0m\n",
            "\u001b[?25hDownloading nvidia_cusolver_cu12-11.6.1.9-py3-none-manylinux2014_x86_64.whl (127.9 MB)\n",
            "\u001b[2K   \u001b[90m━━━━━━━━━━━━━━━━━━━━━━━━━━━━━━━━━━━━━━━━\u001b[0m \u001b[32m127.9/127.9 MB\u001b[0m \u001b[31m7.4 MB/s\u001b[0m eta \u001b[36m0:00:00\u001b[0m\n",
            "\u001b[?25hDownloading nvidia_cusparse_cu12-12.3.1.170-py3-none-manylinux2014_x86_64.whl (207.5 MB)\n",
            "\u001b[2K   \u001b[90m━━━━━━━━━━━━━━━━━━━━━━━━━━━━━━━━━━━━━━━━\u001b[0m \u001b[32m207.5/207.5 MB\u001b[0m \u001b[31m6.3 MB/s\u001b[0m eta \u001b[36m0:00:00\u001b[0m\n",
            "\u001b[?25hDownloading nvidia_nvjitlink_cu12-12.4.127-py3-none-manylinux2014_x86_64.whl (21.1 MB)\n",
            "\u001b[2K   \u001b[90m━━━━━━━━━━━━━━━━━━━━━━━━━━━━━━━━━━━━━━━━\u001b[0m \u001b[32m21.1/21.1 MB\u001b[0m \u001b[31m64.6 MB/s\u001b[0m eta \u001b[36m0:00:00\u001b[0m\n",
            "\u001b[?25hInstalling collected packages: nvidia-nvjitlink-cu12, nvidia-curand-cu12, nvidia-cufft-cu12, nvidia-cuda-runtime-cu12, nvidia-cuda-nvrtc-cu12, nvidia-cuda-cupti-cu12, nvidia-cublas-cu12, nvidia-cusparse-cu12, nvidia-cudnn-cu12, nvidia-cusolver-cu12\n",
            "  Attempting uninstall: nvidia-nvjitlink-cu12\n",
            "    Found existing installation: nvidia-nvjitlink-cu12 12.5.82\n",
            "    Uninstalling nvidia-nvjitlink-cu12-12.5.82:\n",
            "      Successfully uninstalled nvidia-nvjitlink-cu12-12.5.82\n",
            "  Attempting uninstall: nvidia-curand-cu12\n",
            "    Found existing installation: nvidia-curand-cu12 10.3.6.82\n",
            "    Uninstalling nvidia-curand-cu12-10.3.6.82:\n",
            "      Successfully uninstalled nvidia-curand-cu12-10.3.6.82\n",
            "  Attempting uninstall: nvidia-cufft-cu12\n",
            "    Found existing installation: nvidia-cufft-cu12 11.2.3.61\n",
            "    Uninstalling nvidia-cufft-cu12-11.2.3.61:\n",
            "      Successfully uninstalled nvidia-cufft-cu12-11.2.3.61\n",
            "  Attempting uninstall: nvidia-cuda-runtime-cu12\n",
            "    Found existing installation: nvidia-cuda-runtime-cu12 12.5.82\n",
            "    Uninstalling nvidia-cuda-runtime-cu12-12.5.82:\n",
            "      Successfully uninstalled nvidia-cuda-runtime-cu12-12.5.82\n",
            "  Attempting uninstall: nvidia-cuda-nvrtc-cu12\n",
            "    Found existing installation: nvidia-cuda-nvrtc-cu12 12.5.82\n",
            "    Uninstalling nvidia-cuda-nvrtc-cu12-12.5.82:\n",
            "      Successfully uninstalled nvidia-cuda-nvrtc-cu12-12.5.82\n",
            "  Attempting uninstall: nvidia-cuda-cupti-cu12\n",
            "    Found existing installation: nvidia-cuda-cupti-cu12 12.5.82\n",
            "    Uninstalling nvidia-cuda-cupti-cu12-12.5.82:\n",
            "      Successfully uninstalled nvidia-cuda-cupti-cu12-12.5.82\n",
            "  Attempting uninstall: nvidia-cublas-cu12\n",
            "    Found existing installation: nvidia-cublas-cu12 12.5.3.2\n",
            "    Uninstalling nvidia-cublas-cu12-12.5.3.2:\n",
            "      Successfully uninstalled nvidia-cublas-cu12-12.5.3.2\n",
            "  Attempting uninstall: nvidia-cusparse-cu12\n",
            "    Found existing installation: nvidia-cusparse-cu12 12.5.1.3\n",
            "    Uninstalling nvidia-cusparse-cu12-12.5.1.3:\n",
            "      Successfully uninstalled nvidia-cusparse-cu12-12.5.1.3\n",
            "  Attempting uninstall: nvidia-cudnn-cu12\n",
            "    Found existing installation: nvidia-cudnn-cu12 9.3.0.75\n",
            "    Uninstalling nvidia-cudnn-cu12-9.3.0.75:\n",
            "      Successfully uninstalled nvidia-cudnn-cu12-9.3.0.75\n",
            "  Attempting uninstall: nvidia-cusolver-cu12\n",
            "    Found existing installation: nvidia-cusolver-cu12 11.6.3.83\n",
            "    Uninstalling nvidia-cusolver-cu12-11.6.3.83:\n",
            "      Successfully uninstalled nvidia-cusolver-cu12-11.6.3.83\n",
            "Successfully installed nvidia-cublas-cu12-12.4.5.8 nvidia-cuda-cupti-cu12-12.4.127 nvidia-cuda-nvrtc-cu12-12.4.127 nvidia-cuda-runtime-cu12-12.4.127 nvidia-cudnn-cu12-9.1.0.70 nvidia-cufft-cu12-11.2.1.3 nvidia-curand-cu12-10.3.5.147 nvidia-cusolver-cu12-11.6.1.9 nvidia-cusparse-cu12-12.3.1.170 nvidia-nvjitlink-cu12-12.4.127\n"
          ]
        }
      ],
      "source": [
        "!pip install torch numpy"
      ]
    },
    {
      "cell_type": "code",
      "source": [
        "from torch.utils.data import Dataset, DataLoader"
      ],
      "metadata": {
        "id": "ePCVbNDtZ51g"
      },
      "execution_count": 15,
      "outputs": []
    },
    {
      "cell_type": "markdown",
      "source": [
        "# **Data Preparation**"
      ],
      "metadata": {
        "id": "AmPelBXwXuP4"
      }
    },
    {
      "cell_type": "code",
      "source": [
        "eng_fra_pairs = [\n",
        "    (\"i am a student\", \"je suis un etudiant\"),\n",
        "    (\"he is a doctor\", \"il est un medecin\"),\n",
        "    (\"she is a lawyer\", \"elle est une avocate\"),\n",
        "    (\"they are students\", \"ils sont des etudiants\"),\n",
        "    (\"we are teachers\", \"nous sommes des enseignants\"),\n",
        "    (\"you are happy\", \"vous etes heureux\"),\n",
        "    (\"i love learning\", \"j'aime apprendre\"),\n",
        "    (\"they love music\", \"ils aiment la musique\"),\n",
        "    (\"she is happy\", \"elle est heureuse\"),\n",
        "    (\"he plays football\", \"il joue au football\"),\n",
        "    (\"we play chess\", \"nous jouons aux echecs\"),\n",
        "    (\"i am tired\", \"je suis fatigue\"),\n",
        "    (\"they are playing\", \"ils jouent\"),\n",
        "    (\"you are funny\", \"vous etes drole\"),\n",
        "    (\"he is sad\", \"il est triste\"),\n",
        "    (\"she reads books\", \"elle lit des livres\"),\n",
        "    (\"i read every day\", \"je lis tous les jours\"),\n",
        "    (\"we are reading\", \"nous lisons\"),\n",
        "    (\"you read well\", \"vous lisez bien\"),\n",
        "    (\"they are dancing\", \"ils dansent\"),\n",
        "    (\"what is your name\", \"quel est ton nom\"),\n",
        "    (\"my name is john\", \"mon nom est john\"),\n",
        "    (\"how are you\", \"comment ca va\"),\n",
        "    (\"i am fine\", \"je vais bien\"),\n",
        "    (\"where do you live\", \"ou habites-tu\"),\n",
        "    (\"i live in paris\", \"j'habite a paris\"),\n",
        "    (\"do you like music\", \"aimes-tu la musique\"),\n",
        "    (\"yes i like music\", \"oui j'aime la musique\"),\n",
        "    (\"no i don't like it\", \"non je ne l'aime pas\"),\n",
        "    (\"what time is it\", \"quelle heure est-il\"),\n",
        "    (\"it is five o'clock\", \"il est cinq heures\"),\n",
        "    (\"let's go to school\", \"allons a l'ecole\"),\n",
        "    (\"i like reading\", \"j'aime lire\"),\n",
        "    (\"he likes playing guitar\", \"il aime jouer de la guitare\"),\n",
        "    (\"she sings beautifully\", \"elle chante magnifiquement\"),\n",
        "    (\"they are my friends\", \"ils sont mes amis\"),\n",
        "    (\"we are going to the park\", \"nous allons au parc\"),\n",
        "    (\"do you play cricket\", \"joues-tu au cricket\"),\n",
        "    (\"yes i play cricket\", \"oui je joue au cricket\"),\n",
        "    (\"he speaks french\", \"il parle francais\"),\n",
        "    (\"she speaks english\", \"elle parle anglais\"),\n",
        "    (\"i am learning french\", \"j'apprends le francais\"),\n",
        "    (\"this is my book\", \"c'est mon livre\"),\n",
        "    (\"that is your pen\", \"c'est ton stylo\"),\n",
        "    (\"open the door\", \"ouvre la porte\"),\n",
        "    (\"close the window\", \"ferme la fenetre\"),\n",
        "    (\"what is this\", \"qu'est-ce que c'est\"),\n",
        "    (\"this is a table\", \"c'est une table\"),\n",
        "    (\"that is a chair\", \"c'est une chaise\"),\n",
        "    (\"do you have a car\", \"as-tu une voiture\"),\n",
        "    (\"yes i have a car\", \"oui j'ai une voiture\"),\n",
        "    (\"no i don't have a car\", \"non je n'ai pas de voiture\"),\n",
        "    (\"the sky is blue\", \"le ciel est bleu\"),\n",
        "    (\"the sun is bright\", \"le soleil est brillant\"),\n",
        "    (\"the moon is beautiful\", \"la lune est belle\"),\n",
        "    (\"the stars are shining\", \"les etoiles brillent\"),\n",
        "    (\"it is raining today\", \"il pleut aujourd'hui\"),\n",
        "    (\"the weather is nice\", \"il fait beau\"),\n",
        "    (\"it is very cold\", \"il fait tres froid\"),\n",
        "    (\"it is very hot\", \"il fait tres chaud\"),\n",
        "    (\"i am hungry\", \"j'ai faim\"),\n",
        "    (\"i am thirsty\", \"j'ai soif\"),\n",
        "    (\"let's eat food\", \"mangeons de la nourriture\"),\n",
        "    (\"what is your favorite color\", \"quelle est ta couleur preferee\"),\n",
        "    (\"my favorite color is blue\", \"ma couleur preferee est le bleu\"),\n",
        "    (\"do you have siblings\", \"as-tu des freres et soeurs\"),\n",
        "    (\"i have one brother\", \"j'ai un frere\"),\n",
        "    (\"i have one sister\", \"j'ai une soeur\"),\n",
        "    (\"i have two sisters\", \"j'ai deux soeurs\"),\n",
        "    (\"what is your hobby\", \"quel est ton passe-temps\"),\n",
        "    (\"i like to paint\", \"j'aime peindre\"),\n",
        "    (\"i enjoy swimming\", \"j'aime nager\"),\n",
        "    (\"he is a good boy\", \"il est un bon garcon\"),\n",
        "    (\"she is a good girl\", \"elle est une bonne fille\"),\n",
        "    (\"they are kind\", \"ils sont gentils\"),\n",
        "    (\"we are happy\", \"nous sommes heureux\"),\n",
        "    (\"you are welcome\", \"je vous en prie\"),\n",
        "    (\"thank you\", \"merci\"),\n",
        "    (\"good morning\", \"bonjour\"),\n",
        "    (\"good night\", \"bonne nuit\"),\n",
        "    (\"see you later\", \"a plus tard\"),\n",
        "    (\"nice to meet you\", \"ravi de vous rencontrer\"),\n",
        "    (\"what is your profession\", \"quelle est ta profession\"),\n",
        "    (\"i am an engineer\", \"je suis ingenieur\"),\n",
        "    (\"i am a doctor\", \"je suis medecin\"),\n",
        "    (\"she is a nurse\", \"elle est infirmiere\"),\n",
        "    (\"he is a teacher\", \"il est professeur\"),\n",
        "    (\"we are students\", \"nous sommes des etudiants\"),\n",
        "    (\"are you married\", \"etes-vous marie\"),\n",
        "    (\"yes i am married\", \"oui je suis marie\"),\n",
        "    (\"no i am single\", \"non je suis celibataire\"),\n",
        "    (\"how old are you\", \"quel age as-tu\"),\n",
        "    (\"i am twenty years old\", \"j'ai vingt ans\"),\n",
        "    (\"do you speak french\", \"parles-tu francais\"),\n",
        "    (\"yes i speak french\", \"oui je parle francais\"),\n",
        "    (\"no i don't speak french\", \"non je ne parle pas francais\"),\n",
        "    (\"can you help me\", \"peux-tu m'aider\"),\n",
        "    (\"i need help\", \"j'ai besoin d'aide\"),\n",
        "    (\"where is the bathroom\", \"ou sont les toilettes\"),\n",
        "    (\"it is over there\", \"c'est la-bas\"),\n",
        "    (\"what do you want to eat\", \"que veux-tu manger\"),\n",
        "    (\"i want to eat pizza\", \"je veux manger de la pizza\"),\n",
        "    (\"i like chocolate\", \"j'aime le chocolat\"),\n",
        "    (\"do you want coffee\", \"veux-tu du cafe\"),\n",
        "    (\"yes i want coffee\", \"oui je veux du cafe\"),\n",
        "    (\"no thanks\", \"non merci\"),\n",
        "    (\"where is the station\", \"ou est la gare\"),\n",
        "    (\"how much does it cost\", \"combien ca coute\"),\n",
        "    (\"it costs ten euros\", \"ca coute dix euros\"),\n",
        "    (\"can i pay by card\", \"puis-je payer par carte\"),\n",
        "    (\"yes you can\", \"oui vous pouvez\"),\n",
        "    (\"no cash only\", \"non seulement en especes\"),\n",
        "    (\"what is your address\", \"quelle est ton adresse\"),\n",
        "    (\"my address is\", \"mon adresse est\"),\n",
        "    (\"do you have pets\", \"as-tu des animaux\"),\n",
        "    (\"i have a dog\", \"j'ai un chien\"),\n",
        "    (\"i have a cat\", \"j'ai un chat\"),\n",
        "    (\"they have a bird\", \"ils ont un oiseau\"),\n",
        "    (\"it is snowing\", \"il neige\"),\n",
        "    (\"the food is delicious\", \"la nourriture est delicieuse\"),\n",
        "    (\"i am cooking\", \"je cuisine\"),\n",
        "    (\"he is running\", \"il court\"),\n",
        "    (\"she is sleeping\", \"elle dort\"),\n",
        "    (\"they are talking\", \"ils parlent\"),\n",
        "    (\"we are listening\", \"nous ecoutons\"),\n",
        "    (\"you are watching tv\", \"vous regardez la tele\"),\n",
        "    (\"he is reading a newspaper\", \"il lit un journal\"),\n",
        "    (\"she is drinking water\", \"elle boit de l'eau\"),\n",
        "    (\"i am writing a letter\", \"j'ecris une lettre\"),\n",
        "    (\"do you know him\", \"le connais-tu\"),\n",
        "    (\"yes i know him\", \"oui je le connais\"),\n",
        "    (\"no i don't know him\", \"non je ne le connais pas\"),\n",
        "    (\"can you speak slowly\", \"peux-tu parler lentement\"),\n",
        "    (\"what did you say\", \"qu'as-tu dit\"),\n",
        "    (\"please repeat\", \"s'il vous plait repetez\"),\n",
        "    (\"where is the hotel\", \"ou est l'hotel\"),\n",
        "    (\"i need a taxi\", \"j'ai besoin d'un taxi\"),\n",
        "    (\"call the police\", \"appelez la police\"),\n",
        "    (\"i am lost\", \"je suis perdu\"),\n",
        "    (\"can you show me the way\", \"peux-tu me montrer le chemin\"),\n",
        "    (\"thank you very much\", \"merci beaucoup\"),\n",
        "    (\"you are welcome\", \"de rien\"),\n",
        "    (\"excuse me\", \"excusez-moi\"),\n",
        "    (\"i am sorry\", \"je suis desole\"),\n",
        "    (\"do you understand\", \"comprends-tu\"),\n",
        "    (\"yes i understand\", \"oui je comprends\"),\n",
        "    (\"no i don't understand\", \"non je ne comprends pas\"),\n",
        "    (\"can you write it down\", \"peux-tu l'ecrire\"),\n",
        "    (\"what is your phone number\", \"quel est ton numero de telephone\"),\n",
        "    (\"call me later\", \"appelle-moi plus tard\"),\n",
        "    (\"see you tomorrow\", \"a demain\"),\n",
        "    (\"have a good day\", \"bonne journee\"),\n",
        "    (\"happy birthday\", \"joyeux anniversaire\"),\n",
        "    (\"congratulations\", \"felicitations\"),\n",
        "    (\"good luck\", \"bonne chance\"),\n",
        "    (\"welcome to france\", \"bienvenue en france\"),\n",
        "]\n"
      ],
      "metadata": {
        "id": "Z6FmoGx3XQ2e"
      },
      "execution_count": 52,
      "outputs": []
    },
    {
      "cell_type": "code",
      "source": [
        "special_tokens = [\"<PAD>\", \"<SOS>\", \"<EOS>\"]\n",
        "\n",
        "def build_vocab(sentences):\n",
        "    vocab = set()\n",
        "    for sentence in sentences:\n",
        "        vocab.update(sentence.split())\n",
        "    vocab = special_tokens + sorted(list(vocab))\n",
        "    word2idx = {word: idx for idx, word in enumerate(vocab)}\n",
        "    idx2word = {idx: word for word, idx in word2idx.items()}\n",
        "    return word2idx, idx2word\n",
        "\n",
        "src_sentences, tgt_sentences = zip(*eng_fra_pairs)\n",
        "src_word2idx, src_idx2word = build_vocab(src_sentences)\n",
        "tgt_word2idx, tgt_idx2word = build_vocab(tgt_sentences)\n"
      ],
      "metadata": {
        "id": "hOYhPAXeXQ6i"
      },
      "execution_count": 53,
      "outputs": []
    },
    {
      "cell_type": "code",
      "source": [
        "def tokenize(sentence, word2idx):\n",
        "    return [word2idx[word] for word in sentence.split()]\n",
        "\n",
        "def pad_sequence(seq, max_len, pad_idx):\n",
        "    return seq + [pad_idx] * (max_len - len(seq))"
      ],
      "metadata": {
        "id": "h69lXMXnZDF1"
      },
      "execution_count": 54,
      "outputs": []
    },
    {
      "cell_type": "code",
      "source": [
        "class TranslationDataset(Dataset):\n",
        "    def __init__(self, data_pairs, src_word2idx, tgt_word2idx, max_src_len=6, max_tgt_len=8):\n",
        "        self.data_pairs = data_pairs\n",
        "        self.src_word2idx = src_word2idx\n",
        "        self.tgt_word2idx = tgt_word2idx\n",
        "        self.max_src_len = max_src_len\n",
        "        self.max_tgt_len = max_tgt_len\n",
        "\n",
        "    def __len__(self):\n",
        "        return len(self.data_pairs)\n",
        "\n",
        "    def __getitem__(self, idx):\n",
        "        src_sentence, tgt_sentence = self.data_pairs[idx]\n",
        "        src_tokens = tokenize(src_sentence, self.src_word2idx)\n",
        "        src_padded = pad_sequence(src_tokens, self.max_src_len, self.src_word2idx['<PAD>'])\n",
        "\n",
        "        tgt_tokens = [self.tgt_word2idx['<SOS>']] + tokenize(tgt_sentence, self.tgt_word2idx) + [self.tgt_word2idx['<EOS>']]\n",
        "        tgt_padded = pad_sequence(tgt_tokens, self.max_tgt_len, self.tgt_word2idx['<PAD>'])\n",
        "\n",
        "        return torch.tensor(src_padded), torch.tensor(tgt_padded)\n",
        "\n",
        "\n",
        "dataset = TranslationDataset(eng_fra_pairs, src_word2idx, tgt_word2idx)\n",
        "dataloader = DataLoader(dataset, batch_size=2, shuffle=True)\n"
      ],
      "metadata": {
        "id": "mLYMcX5NZFfD"
      },
      "execution_count": 55,
      "outputs": []
    },
    {
      "cell_type": "markdown",
      "source": [
        "# **Build the Transformer Model**"
      ],
      "metadata": {
        "id": "7EFKAmeHX5LR"
      }
    },
    {
      "cell_type": "code",
      "source": [
        "import torch\n",
        "import math\n",
        "\n",
        "class PositionalEncoding(torch.nn.Module):\n",
        "    def __init__(self, d_model, max_len=100):\n",
        "        super().__init__()\n",
        "        pe = torch.zeros(max_len, d_model)\n",
        "        position = torch.arange(0, max_len, dtype=torch.float).unsqueeze(1)\n",
        "        div_term = torch.exp(torch.arange(0, d_model, 2).float() * -(math.log(10000.0) / d_model))\n",
        "\n",
        "        pe[:, 0::2] = torch.sin(position * div_term)\n",
        "        pe[:, 1::2] = torch.cos(position * div_term)\n",
        "        pe = pe.unsqueeze(0)\n",
        "        self.register_buffer('pe', pe)\n",
        "\n",
        "    def forward(self, x):\n",
        "        return x + self.pe[:, :x.size(1)]\n"
      ],
      "metadata": {
        "id": "fsHlXCyVXqTN"
      },
      "execution_count": 56,
      "outputs": []
    },
    {
      "cell_type": "code",
      "source": [
        "class MultiHeadAttention(torch.nn.Module):\n",
        "    def __init__(self, d_model, num_heads):\n",
        "        super().__init__()\n",
        "        self.mha = torch.nn.MultiheadAttention(embed_dim=d_model, num_heads=num_heads, batch_first=True)\n",
        "\n",
        "    def forward(self, query, key, value, attn_mask=None):\n",
        "        attn_output, _ = self.mha(query, key, value, attn_mask=attn_mask)\n",
        "        return attn_output\n"
      ],
      "metadata": {
        "id": "JHKK3H7iYPtd"
      },
      "execution_count": 57,
      "outputs": []
    },
    {
      "cell_type": "code",
      "source": [
        "class FeedForward(torch.nn.Module):\n",
        "    def __init__(self, d_model, d_ff, dropout=0.1):\n",
        "        super().__init__()\n",
        "        self.linear1 = torch.nn.Linear(d_model, d_ff)\n",
        "        self.relu = torch.nn.ReLU()\n",
        "        self.linear2 = torch.nn.Linear(d_ff, d_model)\n",
        "        self.dropout = torch.nn.Dropout(dropout)\n",
        "\n",
        "    def forward(self, x):\n",
        "        return self.linear2(self.dropout(self.relu(self.linear1(x))))\n"
      ],
      "metadata": {
        "id": "qDCuHU_IYPw7"
      },
      "execution_count": 58,
      "outputs": []
    },
    {
      "cell_type": "code",
      "source": [
        "class EncoderLayer(torch.nn.Module):\n",
        "    def __init__(self, d_model, num_heads, d_ff, dropout):\n",
        "        super().__init__()\n",
        "        self.mha = MultiHeadAttention(d_model, num_heads)\n",
        "        self.ffn = FeedForward(d_model, d_ff, dropout)\n",
        "        self.norm1 = torch.nn.LayerNorm(d_model)\n",
        "        self.norm2 = torch.nn.LayerNorm(d_model)\n",
        "        self.dropout = torch.nn.Dropout(dropout)\n",
        "\n",
        "    def forward(self, x, mask=None):\n",
        "        attn = self.mha(x, x, x, attn_mask=mask)\n",
        "        x = self.norm1(x + self.dropout(attn))\n",
        "        ff = self.ffn(x)\n",
        "        x = self.norm2(x + self.dropout(ff))\n",
        "        return x\n"
      ],
      "metadata": {
        "id": "51b0XUC3XqXY"
      },
      "execution_count": 59,
      "outputs": []
    },
    {
      "cell_type": "code",
      "source": [
        "class DecoderLayer(torch.nn.Module):\n",
        "    def __init__(self, d_model, num_heads, d_ff, dropout):\n",
        "        super().__init__()\n",
        "        self.self_attn = MultiHeadAttention(d_model, num_heads)\n",
        "        self.cross_attn = MultiHeadAttention(d_model, num_heads)\n",
        "        self.ffn = FeedForward(d_model, d_ff, dropout)\n",
        "        self.norm1 = torch.nn.LayerNorm(d_model)\n",
        "        self.norm2 = torch.nn.LayerNorm(d_model)\n",
        "        self.norm3 = torch.nn.LayerNorm(d_model)\n",
        "        self.dropout = torch.nn.Dropout(dropout)\n",
        "\n",
        "    def forward(self, x, enc_output, tgt_mask=None, memory_mask=None):\n",
        "        x = self.norm1(x + self.dropout(self.self_attn(x, x, x, attn_mask=tgt_mask)))\n",
        "        x = self.norm2(x + self.dropout(self.cross_attn(x, enc_output, enc_output, attn_mask=memory_mask)))\n",
        "        x = self.norm3(x + self.dropout(self.ffn(x)))\n",
        "        return x\n"
      ],
      "metadata": {
        "id": "6yMI47v4XqaG"
      },
      "execution_count": 60,
      "outputs": []
    },
    {
      "cell_type": "code",
      "source": [
        "class Transformer(torch.nn.Module):\n",
        "    def __init__(self, src_vocab_size, tgt_vocab_size, d_model, num_heads, num_encoder_layers, num_decoder_layers, d_ff, dropout=0.1):\n",
        "        super().__init__()\n",
        "        self.src_embedding = torch.nn.Embedding(src_vocab_size, d_model)\n",
        "        self.tgt_embedding = torch.nn.Embedding(tgt_vocab_size, d_model)\n",
        "        self.pos_encoding = PositionalEncoding(d_model)\n",
        "\n",
        "        self.encoder_layers = torch.nn.ModuleList([\n",
        "            EncoderLayer(d_model, num_heads, d_ff, dropout) for _ in range(num_encoder_layers)\n",
        "        ])\n",
        "\n",
        "        self.decoder_layers = torch.nn.ModuleList([\n",
        "            DecoderLayer(d_model, num_heads, d_ff, dropout) for _ in range(num_decoder_layers)\n",
        "        ])\n",
        "\n",
        "        self.fc_out = torch.nn.Linear(d_model, tgt_vocab_size)\n",
        "\n",
        "    def encode(self, src, src_mask=None):\n",
        "        x = self.pos_encoding(self.src_embedding(src))\n",
        "        for layer in self.encoder_layers:\n",
        "            x = layer(x, mask=src_mask)\n",
        "        return x\n",
        "\n",
        "    def decode(self, tgt, enc_output, tgt_mask=None, memory_mask=None):\n",
        "        x = self.pos_encoding(self.tgt_embedding(tgt))\n",
        "        for layer in self.decoder_layers:\n",
        "            x = layer(x, enc_output, tgt_mask=tgt_mask, memory_mask=memory_mask)\n",
        "        return self.fc_out(x)\n",
        "\n",
        "    def forward(self, src, tgt, src_mask=None, tgt_mask=None, memory_mask=None):\n",
        "        enc_output = self.encode(src, src_mask)\n",
        "        return self.decode(tgt, enc_output, tgt_mask, memory_mask)\n"
      ],
      "metadata": {
        "id": "eaEwQ3pxXqcm"
      },
      "execution_count": 61,
      "outputs": []
    },
    {
      "cell_type": "markdown",
      "source": [
        "# **Training Loop**"
      ],
      "metadata": {
        "id": "ROF3aiZ5YhYH"
      }
    },
    {
      "cell_type": "code",
      "source": [
        "d_model = 128\n",
        "num_heads = 4\n",
        "num_encoder_layers = 2\n",
        "num_decoder_layers = 2\n",
        "d_ff = 512\n",
        "dropout = 0.1"
      ],
      "metadata": {
        "id": "vJ46exU4aPrN"
      },
      "execution_count": 62,
      "outputs": []
    },
    {
      "cell_type": "code",
      "source": [
        "model = Transformer(len(src_word2idx), len(tgt_word2idx), d_model, num_heads, num_encoder_layers, num_decoder_layers, d_ff, dropout)\n",
        "optimizer = torch.optim.Adam(model.parameters(), lr=1e-4)\n",
        "criterion = torch.nn.CrossEntropyLoss(ignore_index=src_word2idx['<PAD>'])"
      ],
      "metadata": {
        "id": "6QjRZE_yXqfH"
      },
      "execution_count": 63,
      "outputs": []
    },
    {
      "cell_type": "code",
      "source": [
        "def create_look_ahead_mask(size):\n",
        "    mask = torch.triu(torch.ones((size, size)), diagonal=1).type(torch.bool)\n",
        "    return mask"
      ],
      "metadata": {
        "id": "pOEniPndXqh3"
      },
      "execution_count": 64,
      "outputs": []
    },
    {
      "cell_type": "code",
      "source": [
        "for epoch in range(50):\n",
        "    for src, tgt in dataloader:\n",
        "        tgt_input = tgt[:, :-1]\n",
        "        tgt_output = tgt[:, 1:]\n",
        "\n",
        "        tgt_mask = create_look_ahead_mask(tgt_input.size(1))\n",
        "\n",
        "        output = model(src, tgt_input, tgt_mask=tgt_mask)\n",
        "\n",
        "        loss = criterion(output.view(-1, output.size(-1)), tgt_output.reshape(-1))\n",
        "\n",
        "        optimizer.zero_grad()\n",
        "        loss.backward()\n",
        "        optimizer.step()\n",
        "\n",
        "    print(f'Epoch {epoch}: Loss = {loss.item()}')\n"
      ],
      "metadata": {
        "colab": {
          "base_uri": "https://localhost:8080/"
        },
        "id": "-PkMsGNSXqka",
        "outputId": "6d6e9376-a34f-4289-9a77-15da0e5510be"
      },
      "execution_count": 65,
      "outputs": [
        {
          "output_type": "stream",
          "name": "stdout",
          "text": [
            "Epoch 0: Loss = 4.367821216583252\n",
            "Epoch 1: Loss = 4.576086044311523\n",
            "Epoch 2: Loss = 3.949319362640381\n",
            "Epoch 3: Loss = 3.5367653369903564\n",
            "Epoch 4: Loss = 3.4026377201080322\n",
            "Epoch 5: Loss = 2.799255847930908\n",
            "Epoch 6: Loss = 3.315385580062866\n",
            "Epoch 7: Loss = 1.9459508657455444\n",
            "Epoch 8: Loss = 1.9149526357650757\n",
            "Epoch 9: Loss = 2.751826763153076\n",
            "Epoch 10: Loss = 1.7537287473678589\n",
            "Epoch 11: Loss = 1.7364401817321777\n",
            "Epoch 12: Loss = 1.3039084672927856\n",
            "Epoch 13: Loss = 2.2397782802581787\n",
            "Epoch 14: Loss = 1.2608376741409302\n",
            "Epoch 15: Loss = 1.121880292892456\n",
            "Epoch 16: Loss = 1.30211341381073\n",
            "Epoch 17: Loss = 1.2271144390106201\n",
            "Epoch 18: Loss = 1.1567494869232178\n",
            "Epoch 19: Loss = 0.7983038425445557\n",
            "Epoch 20: Loss = 0.7748401165008545\n",
            "Epoch 21: Loss = 0.6820829510688782\n",
            "Epoch 22: Loss = 0.7048152685165405\n",
            "Epoch 23: Loss = 0.513574481010437\n",
            "Epoch 24: Loss = 0.4472028315067291\n",
            "Epoch 25: Loss = 0.4900290071964264\n",
            "Epoch 26: Loss = 0.4374753534793854\n",
            "Epoch 27: Loss = 0.2532564699649811\n",
            "Epoch 28: Loss = 0.43590906262397766\n",
            "Epoch 29: Loss = 0.3430452346801758\n",
            "Epoch 30: Loss = 0.351373553276062\n",
            "Epoch 31: Loss = 0.24385833740234375\n",
            "Epoch 32: Loss = 0.2606780529022217\n",
            "Epoch 33: Loss = 0.18653546273708344\n",
            "Epoch 34: Loss = 0.1667235791683197\n",
            "Epoch 35: Loss = 0.16124260425567627\n",
            "Epoch 36: Loss = 0.16053353250026703\n",
            "Epoch 37: Loss = 0.19410033524036407\n",
            "Epoch 38: Loss = 0.43474331498146057\n",
            "Epoch 39: Loss = 0.2175268828868866\n",
            "Epoch 40: Loss = 0.10701694339513779\n",
            "Epoch 41: Loss = 0.12330793589353561\n",
            "Epoch 42: Loss = 0.14489111304283142\n",
            "Epoch 43: Loss = 0.11801853030920029\n",
            "Epoch 44: Loss = 0.07719825953245163\n",
            "Epoch 45: Loss = 0.06799706816673279\n",
            "Epoch 46: Loss = 0.07426434010267258\n",
            "Epoch 47: Loss = 0.04834302142262459\n",
            "Epoch 48: Loss = 0.08965938538312912\n",
            "Epoch 49: Loss = 0.0860089585185051\n"
          ]
        }
      ]
    },
    {
      "cell_type": "markdown",
      "source": [
        "# **Inference Function**"
      ],
      "metadata": {
        "id": "Yf7pvTA9a9Md"
      }
    },
    {
      "cell_type": "code",
      "source": [
        "def translate(sentence, model, src_word2idx, tgt_word2idx, idx2word, max_len=10):\n",
        "    model.eval()\n",
        "    tokens = [src_word2idx[word] for word in sentence.split()]\n",
        "    src_tensor = torch.tensor(tokens).unsqueeze(0)\n",
        "    enc_output = model.encode(src_tensor)\n",
        "\n",
        "    tgt_indices = [tgt_word2idx['<SOS>']]\n",
        "    for _ in range(max_len):\n",
        "        tgt_tensor = torch.tensor(tgt_indices).unsqueeze(0)\n",
        "        tgt_mask = create_look_ahead_mask(tgt_tensor.size(1))\n",
        "\n",
        "        output = model.decode(tgt_tensor, enc_output, tgt_mask=tgt_mask)\n",
        "        next_token = output.argmax(-1)[:, -1].item()\n",
        "        if next_token == tgt_word2idx['<EOS>']:\n",
        "            break\n",
        "        tgt_indices.append(next_token)\n",
        "\n",
        "    translated = [idx2word[idx] for idx in tgt_indices[1:]]\n",
        "    return ' '.join(translated)"
      ],
      "metadata": {
        "id": "IxSeKOj5Xqod"
      },
      "execution_count": 66,
      "outputs": []
    },
    {
      "cell_type": "code",
      "source": [
        "sentence_to_translate = \"he is sleeping\"\n",
        "translation = translate(sentence_to_translate, model, src_word2idx, tgt_word2idx, tgt_idx2word)\n",
        "print(f\"{sentence_to_translate} => {translation}\")"
      ],
      "metadata": {
        "colab": {
          "base_uri": "https://localhost:8080/"
        },
        "id": "CsDLgrh-bE4j",
        "outputId": "a3bbc8d8-6b5d-4438-981a-a99b048146a8"
      },
      "execution_count": 68,
      "outputs": [
        {
          "output_type": "stream",
          "name": "stdout",
          "text": [
            "he is sleeping => il dort\n"
          ]
        }
      ]
    },
    {
      "cell_type": "code",
      "source": [],
      "metadata": {
        "id": "I4vvc-rzb_Gv"
      },
      "execution_count": 51,
      "outputs": []
    }
  ]
}